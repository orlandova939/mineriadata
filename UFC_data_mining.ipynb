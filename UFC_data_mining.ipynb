{
  "nbformat": 4,
  "nbformat_minor": 0,
  "metadata": {
    "colab": {
      "provenance": [],
      "authorship_tag": "ABX9TyMyWY7Pire09ulaC5v0Vp7U",
      "include_colab_link": true
    },
    "kernelspec": {
      "name": "python3",
      "display_name": "Python 3"
    },
    "language_info": {
      "name": "python"
    }
  },
  "cells": [
    {
      "cell_type": "markdown",
      "metadata": {
        "id": "view-in-github",
        "colab_type": "text"
      },
      "source": [
        "<a href=\"https://colab.research.google.com/github/orlandova939/mineriadata/blob/main/UFC_data_mining.ipynb\" target=\"_parent\"><img src=\"https://colab.research.google.com/assets/colab-badge.svg\" alt=\"Open In Colab\"/></a>"
      ]
    },
    {
      "cell_type": "code",
      "execution_count": 1,
      "metadata": {
        "colab": {
          "base_uri": "https://localhost:8080/",
          "height": 73
        },
        "id": "whsw3asV11ok",
        "outputId": "93cb2cfc-54c1-4648-c24f-474fbada5633"
      },
      "outputs": [
        {
          "output_type": "display_data",
          "data": {
            "text/plain": [
              "<IPython.core.display.HTML object>"
            ],
            "text/html": [
              "\n",
              "     <input type=\"file\" id=\"files-df588f43-c57b-4bf2-b8ba-9e13b0b676fd\" name=\"files[]\" multiple disabled\n",
              "        style=\"border:none\" />\n",
              "     <output id=\"result-df588f43-c57b-4bf2-b8ba-9e13b0b676fd\">\n",
              "      Upload widget is only available when the cell has been executed in the\n",
              "      current browser session. Please rerun this cell to enable.\n",
              "      </output>\n",
              "      <script>// Copyright 2017 Google LLC\n",
              "//\n",
              "// Licensed under the Apache License, Version 2.0 (the \"License\");\n",
              "// you may not use this file except in compliance with the License.\n",
              "// You may obtain a copy of the License at\n",
              "//\n",
              "//      http://www.apache.org/licenses/LICENSE-2.0\n",
              "//\n",
              "// Unless required by applicable law or agreed to in writing, software\n",
              "// distributed under the License is distributed on an \"AS IS\" BASIS,\n",
              "// WITHOUT WARRANTIES OR CONDITIONS OF ANY KIND, either express or implied.\n",
              "// See the License for the specific language governing permissions and\n",
              "// limitations under the License.\n",
              "\n",
              "/**\n",
              " * @fileoverview Helpers for google.colab Python module.\n",
              " */\n",
              "(function(scope) {\n",
              "function span(text, styleAttributes = {}) {\n",
              "  const element = document.createElement('span');\n",
              "  element.textContent = text;\n",
              "  for (const key of Object.keys(styleAttributes)) {\n",
              "    element.style[key] = styleAttributes[key];\n",
              "  }\n",
              "  return element;\n",
              "}\n",
              "\n",
              "// Max number of bytes which will be uploaded at a time.\n",
              "const MAX_PAYLOAD_SIZE = 100 * 1024;\n",
              "\n",
              "function _uploadFiles(inputId, outputId) {\n",
              "  const steps = uploadFilesStep(inputId, outputId);\n",
              "  const outputElement = document.getElementById(outputId);\n",
              "  // Cache steps on the outputElement to make it available for the next call\n",
              "  // to uploadFilesContinue from Python.\n",
              "  outputElement.steps = steps;\n",
              "\n",
              "  return _uploadFilesContinue(outputId);\n",
              "}\n",
              "\n",
              "// This is roughly an async generator (not supported in the browser yet),\n",
              "// where there are multiple asynchronous steps and the Python side is going\n",
              "// to poll for completion of each step.\n",
              "// This uses a Promise to block the python side on completion of each step,\n",
              "// then passes the result of the previous step as the input to the next step.\n",
              "function _uploadFilesContinue(outputId) {\n",
              "  const outputElement = document.getElementById(outputId);\n",
              "  const steps = outputElement.steps;\n",
              "\n",
              "  const next = steps.next(outputElement.lastPromiseValue);\n",
              "  return Promise.resolve(next.value.promise).then((value) => {\n",
              "    // Cache the last promise value to make it available to the next\n",
              "    // step of the generator.\n",
              "    outputElement.lastPromiseValue = value;\n",
              "    return next.value.response;\n",
              "  });\n",
              "}\n",
              "\n",
              "/**\n",
              " * Generator function which is called between each async step of the upload\n",
              " * process.\n",
              " * @param {string} inputId Element ID of the input file picker element.\n",
              " * @param {string} outputId Element ID of the output display.\n",
              " * @return {!Iterable<!Object>} Iterable of next steps.\n",
              " */\n",
              "function* uploadFilesStep(inputId, outputId) {\n",
              "  const inputElement = document.getElementById(inputId);\n",
              "  inputElement.disabled = false;\n",
              "\n",
              "  const outputElement = document.getElementById(outputId);\n",
              "  outputElement.innerHTML = '';\n",
              "\n",
              "  const pickedPromise = new Promise((resolve) => {\n",
              "    inputElement.addEventListener('change', (e) => {\n",
              "      resolve(e.target.files);\n",
              "    });\n",
              "  });\n",
              "\n",
              "  const cancel = document.createElement('button');\n",
              "  inputElement.parentElement.appendChild(cancel);\n",
              "  cancel.textContent = 'Cancel upload';\n",
              "  const cancelPromise = new Promise((resolve) => {\n",
              "    cancel.onclick = () => {\n",
              "      resolve(null);\n",
              "    };\n",
              "  });\n",
              "\n",
              "  // Wait for the user to pick the files.\n",
              "  const files = yield {\n",
              "    promise: Promise.race([pickedPromise, cancelPromise]),\n",
              "    response: {\n",
              "      action: 'starting',\n",
              "    }\n",
              "  };\n",
              "\n",
              "  cancel.remove();\n",
              "\n",
              "  // Disable the input element since further picks are not allowed.\n",
              "  inputElement.disabled = true;\n",
              "\n",
              "  if (!files) {\n",
              "    return {\n",
              "      response: {\n",
              "        action: 'complete',\n",
              "      }\n",
              "    };\n",
              "  }\n",
              "\n",
              "  for (const file of files) {\n",
              "    const li = document.createElement('li');\n",
              "    li.append(span(file.name, {fontWeight: 'bold'}));\n",
              "    li.append(span(\n",
              "        `(${file.type || 'n/a'}) - ${file.size} bytes, ` +\n",
              "        `last modified: ${\n",
              "            file.lastModifiedDate ? file.lastModifiedDate.toLocaleDateString() :\n",
              "                                    'n/a'} - `));\n",
              "    const percent = span('0% done');\n",
              "    li.appendChild(percent);\n",
              "\n",
              "    outputElement.appendChild(li);\n",
              "\n",
              "    const fileDataPromise = new Promise((resolve) => {\n",
              "      const reader = new FileReader();\n",
              "      reader.onload = (e) => {\n",
              "        resolve(e.target.result);\n",
              "      };\n",
              "      reader.readAsArrayBuffer(file);\n",
              "    });\n",
              "    // Wait for the data to be ready.\n",
              "    let fileData = yield {\n",
              "      promise: fileDataPromise,\n",
              "      response: {\n",
              "        action: 'continue',\n",
              "      }\n",
              "    };\n",
              "\n",
              "    // Use a chunked sending to avoid message size limits. See b/62115660.\n",
              "    let position = 0;\n",
              "    do {\n",
              "      const length = Math.min(fileData.byteLength - position, MAX_PAYLOAD_SIZE);\n",
              "      const chunk = new Uint8Array(fileData, position, length);\n",
              "      position += length;\n",
              "\n",
              "      const base64 = btoa(String.fromCharCode.apply(null, chunk));\n",
              "      yield {\n",
              "        response: {\n",
              "          action: 'append',\n",
              "          file: file.name,\n",
              "          data: base64,\n",
              "        },\n",
              "      };\n",
              "\n",
              "      let percentDone = fileData.byteLength === 0 ?\n",
              "          100 :\n",
              "          Math.round((position / fileData.byteLength) * 100);\n",
              "      percent.textContent = `${percentDone}% done`;\n",
              "\n",
              "    } while (position < fileData.byteLength);\n",
              "  }\n",
              "\n",
              "  // All done.\n",
              "  yield {\n",
              "    response: {\n",
              "      action: 'complete',\n",
              "    }\n",
              "  };\n",
              "}\n",
              "\n",
              "scope.google = scope.google || {};\n",
              "scope.google.colab = scope.google.colab || {};\n",
              "scope.google.colab._files = {\n",
              "  _uploadFiles,\n",
              "  _uploadFilesContinue,\n",
              "};\n",
              "})(self);\n",
              "</script> "
            ]
          },
          "metadata": {}
        },
        {
          "output_type": "stream",
          "name": "stdout",
          "text": [
            "Saving ufc-master.csv to ufc-master.csv\n"
          ]
        }
      ],
      "source": [
        "from google.colab import files\n",
        "uploaded = files.upload()\n"
      ]
    },
    {
      "cell_type": "code",
      "source": [
        "import pandas as pd\n",
        "\n",
        "# Cargar el archivo CSV en un DataFrame\n",
        "df = pd.read_csv('ufc-master.csv')\n"
      ],
      "metadata": {
        "id": "jIL2WZMb2UHl"
      },
      "execution_count": 2,
      "outputs": []
    },
    {
      "cell_type": "code",
      "source": [
        "# Muestra las primeras 5 filas del DataFrame\n",
        "df.head()"
      ],
      "metadata": {
        "colab": {
          "base_uri": "https://localhost:8080/",
          "height": 516
        },
        "id": "7e-wcBzG2Ynj",
        "outputId": "61d01963-4da6-4e37-9fce-eee8d00a3594"
      },
      "execution_count": 3,
      "outputs": [
        {
          "output_type": "execute_result",
          "data": {
            "text/plain": [
              "           RedFighter         BlueFighter  RedOdds  BlueOdds  \\\n",
              "0          Neil Magny       Carlos Prates    550.0    -800.0   \n",
              "1  Gerald Meerschaert   Reinier de Ridder    250.0    -310.0   \n",
              "2      Gaston Bolanos  Cortavious Romious    205.0    -250.0   \n",
              "3      Luana Pinheiro   Gillian Robertson    360.0    -470.0   \n",
              "4  Mansur Abdul-Malik     Dusko Todorovic   -485.0     370.0   \n",
              "\n",
              "   RedExpectedValue  BlueExpectedValue        Date                Location  \\\n",
              "0          550.0000            12.5000  2024-11-09  Las Vegas, Nevada, USA   \n",
              "1          250.0000            32.2581  2024-11-09  Las Vegas, Nevada, USA   \n",
              "2          205.0000            40.0000  2024-11-09  Las Vegas, Nevada, USA   \n",
              "3          360.0000            21.2766  2024-11-09  Las Vegas, Nevada, USA   \n",
              "4           20.6186           370.0000  2024-11-09  Las Vegas, Nevada, USA   \n",
              "\n",
              "  Country Winner  ...  FinishDetails FinishRound FinishRoundTime  \\\n",
              "0     USA   Blue  ...          Punch         1.0            4:50   \n",
              "1     USA   Blue  ...   Arm Triangle         3.0            1:44   \n",
              "2     USA    Red  ...            NaN         3.0            5:00   \n",
              "3     USA   Blue  ...            NaN         3.0            5:00   \n",
              "4     USA    Red  ...        Punches         1.0            2:44   \n",
              "\n",
              "   TotalFightTimeSecs  RedDecOdds  BlueDecOdds  RSubOdds  BSubOdds  RKOOdds  \\\n",
              "0               290.0      1100.0        800.0    1600.0     800.0   2000.0   \n",
              "1               704.0       700.0        200.0     600.0     165.0   1400.0   \n",
              "2               900.0       550.0        275.0    3000.0     165.0    380.0   \n",
              "3               900.0       600.0        250.0    2200.0     110.0    900.0   \n",
              "4               164.0       600.0          NaN     800.0       NaN   -250.0   \n",
              "\n",
              "   BKOOdds  \n",
              "0   -400.0  \n",
              "1    450.0  \n",
              "2    450.0  \n",
              "3    500.0  \n",
              "4      NaN  \n",
              "\n",
              "[5 rows x 118 columns]"
            ],
            "text/html": [
              "\n",
              "  <div id=\"df-08224858-b4ac-4246-b1bb-8a11dad4a10c\" class=\"colab-df-container\">\n",
              "    <div>\n",
              "<style scoped>\n",
              "    .dataframe tbody tr th:only-of-type {\n",
              "        vertical-align: middle;\n",
              "    }\n",
              "\n",
              "    .dataframe tbody tr th {\n",
              "        vertical-align: top;\n",
              "    }\n",
              "\n",
              "    .dataframe thead th {\n",
              "        text-align: right;\n",
              "    }\n",
              "</style>\n",
              "<table border=\"1\" class=\"dataframe\">\n",
              "  <thead>\n",
              "    <tr style=\"text-align: right;\">\n",
              "      <th></th>\n",
              "      <th>RedFighter</th>\n",
              "      <th>BlueFighter</th>\n",
              "      <th>RedOdds</th>\n",
              "      <th>BlueOdds</th>\n",
              "      <th>RedExpectedValue</th>\n",
              "      <th>BlueExpectedValue</th>\n",
              "      <th>Date</th>\n",
              "      <th>Location</th>\n",
              "      <th>Country</th>\n",
              "      <th>Winner</th>\n",
              "      <th>...</th>\n",
              "      <th>FinishDetails</th>\n",
              "      <th>FinishRound</th>\n",
              "      <th>FinishRoundTime</th>\n",
              "      <th>TotalFightTimeSecs</th>\n",
              "      <th>RedDecOdds</th>\n",
              "      <th>BlueDecOdds</th>\n",
              "      <th>RSubOdds</th>\n",
              "      <th>BSubOdds</th>\n",
              "      <th>RKOOdds</th>\n",
              "      <th>BKOOdds</th>\n",
              "    </tr>\n",
              "  </thead>\n",
              "  <tbody>\n",
              "    <tr>\n",
              "      <th>0</th>\n",
              "      <td>Neil Magny</td>\n",
              "      <td>Carlos Prates</td>\n",
              "      <td>550.0</td>\n",
              "      <td>-800.0</td>\n",
              "      <td>550.0000</td>\n",
              "      <td>12.5000</td>\n",
              "      <td>2024-11-09</td>\n",
              "      <td>Las Vegas, Nevada, USA</td>\n",
              "      <td>USA</td>\n",
              "      <td>Blue</td>\n",
              "      <td>...</td>\n",
              "      <td>Punch</td>\n",
              "      <td>1.0</td>\n",
              "      <td>4:50</td>\n",
              "      <td>290.0</td>\n",
              "      <td>1100.0</td>\n",
              "      <td>800.0</td>\n",
              "      <td>1600.0</td>\n",
              "      <td>800.0</td>\n",
              "      <td>2000.0</td>\n",
              "      <td>-400.0</td>\n",
              "    </tr>\n",
              "    <tr>\n",
              "      <th>1</th>\n",
              "      <td>Gerald Meerschaert</td>\n",
              "      <td>Reinier de Ridder</td>\n",
              "      <td>250.0</td>\n",
              "      <td>-310.0</td>\n",
              "      <td>250.0000</td>\n",
              "      <td>32.2581</td>\n",
              "      <td>2024-11-09</td>\n",
              "      <td>Las Vegas, Nevada, USA</td>\n",
              "      <td>USA</td>\n",
              "      <td>Blue</td>\n",
              "      <td>...</td>\n",
              "      <td>Arm Triangle</td>\n",
              "      <td>3.0</td>\n",
              "      <td>1:44</td>\n",
              "      <td>704.0</td>\n",
              "      <td>700.0</td>\n",
              "      <td>200.0</td>\n",
              "      <td>600.0</td>\n",
              "      <td>165.0</td>\n",
              "      <td>1400.0</td>\n",
              "      <td>450.0</td>\n",
              "    </tr>\n",
              "    <tr>\n",
              "      <th>2</th>\n",
              "      <td>Gaston Bolanos</td>\n",
              "      <td>Cortavious Romious</td>\n",
              "      <td>205.0</td>\n",
              "      <td>-250.0</td>\n",
              "      <td>205.0000</td>\n",
              "      <td>40.0000</td>\n",
              "      <td>2024-11-09</td>\n",
              "      <td>Las Vegas, Nevada, USA</td>\n",
              "      <td>USA</td>\n",
              "      <td>Red</td>\n",
              "      <td>...</td>\n",
              "      <td>NaN</td>\n",
              "      <td>3.0</td>\n",
              "      <td>5:00</td>\n",
              "      <td>900.0</td>\n",
              "      <td>550.0</td>\n",
              "      <td>275.0</td>\n",
              "      <td>3000.0</td>\n",
              "      <td>165.0</td>\n",
              "      <td>380.0</td>\n",
              "      <td>450.0</td>\n",
              "    </tr>\n",
              "    <tr>\n",
              "      <th>3</th>\n",
              "      <td>Luana Pinheiro</td>\n",
              "      <td>Gillian Robertson</td>\n",
              "      <td>360.0</td>\n",
              "      <td>-470.0</td>\n",
              "      <td>360.0000</td>\n",
              "      <td>21.2766</td>\n",
              "      <td>2024-11-09</td>\n",
              "      <td>Las Vegas, Nevada, USA</td>\n",
              "      <td>USA</td>\n",
              "      <td>Blue</td>\n",
              "      <td>...</td>\n",
              "      <td>NaN</td>\n",
              "      <td>3.0</td>\n",
              "      <td>5:00</td>\n",
              "      <td>900.0</td>\n",
              "      <td>600.0</td>\n",
              "      <td>250.0</td>\n",
              "      <td>2200.0</td>\n",
              "      <td>110.0</td>\n",
              "      <td>900.0</td>\n",
              "      <td>500.0</td>\n",
              "    </tr>\n",
              "    <tr>\n",
              "      <th>4</th>\n",
              "      <td>Mansur Abdul-Malik</td>\n",
              "      <td>Dusko Todorovic</td>\n",
              "      <td>-485.0</td>\n",
              "      <td>370.0</td>\n",
              "      <td>20.6186</td>\n",
              "      <td>370.0000</td>\n",
              "      <td>2024-11-09</td>\n",
              "      <td>Las Vegas, Nevada, USA</td>\n",
              "      <td>USA</td>\n",
              "      <td>Red</td>\n",
              "      <td>...</td>\n",
              "      <td>Punches</td>\n",
              "      <td>1.0</td>\n",
              "      <td>2:44</td>\n",
              "      <td>164.0</td>\n",
              "      <td>600.0</td>\n",
              "      <td>NaN</td>\n",
              "      <td>800.0</td>\n",
              "      <td>NaN</td>\n",
              "      <td>-250.0</td>\n",
              "      <td>NaN</td>\n",
              "    </tr>\n",
              "  </tbody>\n",
              "</table>\n",
              "<p>5 rows × 118 columns</p>\n",
              "</div>\n",
              "    <div class=\"colab-df-buttons\">\n",
              "\n",
              "  <div class=\"colab-df-container\">\n",
              "    <button class=\"colab-df-convert\" onclick=\"convertToInteractive('df-08224858-b4ac-4246-b1bb-8a11dad4a10c')\"\n",
              "            title=\"Convert this dataframe to an interactive table.\"\n",
              "            style=\"display:none;\">\n",
              "\n",
              "  <svg xmlns=\"http://www.w3.org/2000/svg\" height=\"24px\" viewBox=\"0 -960 960 960\">\n",
              "    <path d=\"M120-120v-720h720v720H120Zm60-500h600v-160H180v160Zm220 220h160v-160H400v160Zm0 220h160v-160H400v160ZM180-400h160v-160H180v160Zm440 0h160v-160H620v160ZM180-180h160v-160H180v160Zm440 0h160v-160H620v160Z\"/>\n",
              "  </svg>\n",
              "    </button>\n",
              "\n",
              "  <style>\n",
              "    .colab-df-container {\n",
              "      display:flex;\n",
              "      gap: 12px;\n",
              "    }\n",
              "\n",
              "    .colab-df-convert {\n",
              "      background-color: #E8F0FE;\n",
              "      border: none;\n",
              "      border-radius: 50%;\n",
              "      cursor: pointer;\n",
              "      display: none;\n",
              "      fill: #1967D2;\n",
              "      height: 32px;\n",
              "      padding: 0 0 0 0;\n",
              "      width: 32px;\n",
              "    }\n",
              "\n",
              "    .colab-df-convert:hover {\n",
              "      background-color: #E2EBFA;\n",
              "      box-shadow: 0px 1px 2px rgba(60, 64, 67, 0.3), 0px 1px 3px 1px rgba(60, 64, 67, 0.15);\n",
              "      fill: #174EA6;\n",
              "    }\n",
              "\n",
              "    .colab-df-buttons div {\n",
              "      margin-bottom: 4px;\n",
              "    }\n",
              "\n",
              "    [theme=dark] .colab-df-convert {\n",
              "      background-color: #3B4455;\n",
              "      fill: #D2E3FC;\n",
              "    }\n",
              "\n",
              "    [theme=dark] .colab-df-convert:hover {\n",
              "      background-color: #434B5C;\n",
              "      box-shadow: 0px 1px 3px 1px rgba(0, 0, 0, 0.15);\n",
              "      filter: drop-shadow(0px 1px 2px rgba(0, 0, 0, 0.3));\n",
              "      fill: #FFFFFF;\n",
              "    }\n",
              "  </style>\n",
              "\n",
              "    <script>\n",
              "      const buttonEl =\n",
              "        document.querySelector('#df-08224858-b4ac-4246-b1bb-8a11dad4a10c button.colab-df-convert');\n",
              "      buttonEl.style.display =\n",
              "        google.colab.kernel.accessAllowed ? 'block' : 'none';\n",
              "\n",
              "      async function convertToInteractive(key) {\n",
              "        const element = document.querySelector('#df-08224858-b4ac-4246-b1bb-8a11dad4a10c');\n",
              "        const dataTable =\n",
              "          await google.colab.kernel.invokeFunction('convertToInteractive',\n",
              "                                                    [key], {});\n",
              "        if (!dataTable) return;\n",
              "\n",
              "        const docLinkHtml = 'Like what you see? Visit the ' +\n",
              "          '<a target=\"_blank\" href=https://colab.research.google.com/notebooks/data_table.ipynb>data table notebook</a>'\n",
              "          + ' to learn more about interactive tables.';\n",
              "        element.innerHTML = '';\n",
              "        dataTable['output_type'] = 'display_data';\n",
              "        await google.colab.output.renderOutput(dataTable, element);\n",
              "        const docLink = document.createElement('div');\n",
              "        docLink.innerHTML = docLinkHtml;\n",
              "        element.appendChild(docLink);\n",
              "      }\n",
              "    </script>\n",
              "  </div>\n",
              "\n",
              "\n",
              "<div id=\"df-a2265bf9-8fea-40ac-ae01-58e99db3b253\">\n",
              "  <button class=\"colab-df-quickchart\" onclick=\"quickchart('df-a2265bf9-8fea-40ac-ae01-58e99db3b253')\"\n",
              "            title=\"Suggest charts\"\n",
              "            style=\"display:none;\">\n",
              "\n",
              "<svg xmlns=\"http://www.w3.org/2000/svg\" height=\"24px\"viewBox=\"0 0 24 24\"\n",
              "     width=\"24px\">\n",
              "    <g>\n",
              "        <path d=\"M19 3H5c-1.1 0-2 .9-2 2v14c0 1.1.9 2 2 2h14c1.1 0 2-.9 2-2V5c0-1.1-.9-2-2-2zM9 17H7v-7h2v7zm4 0h-2V7h2v10zm4 0h-2v-4h2v4z\"/>\n",
              "    </g>\n",
              "</svg>\n",
              "  </button>\n",
              "\n",
              "<style>\n",
              "  .colab-df-quickchart {\n",
              "      --bg-color: #E8F0FE;\n",
              "      --fill-color: #1967D2;\n",
              "      --hover-bg-color: #E2EBFA;\n",
              "      --hover-fill-color: #174EA6;\n",
              "      --disabled-fill-color: #AAA;\n",
              "      --disabled-bg-color: #DDD;\n",
              "  }\n",
              "\n",
              "  [theme=dark] .colab-df-quickchart {\n",
              "      --bg-color: #3B4455;\n",
              "      --fill-color: #D2E3FC;\n",
              "      --hover-bg-color: #434B5C;\n",
              "      --hover-fill-color: #FFFFFF;\n",
              "      --disabled-bg-color: #3B4455;\n",
              "      --disabled-fill-color: #666;\n",
              "  }\n",
              "\n",
              "  .colab-df-quickchart {\n",
              "    background-color: var(--bg-color);\n",
              "    border: none;\n",
              "    border-radius: 50%;\n",
              "    cursor: pointer;\n",
              "    display: none;\n",
              "    fill: var(--fill-color);\n",
              "    height: 32px;\n",
              "    padding: 0;\n",
              "    width: 32px;\n",
              "  }\n",
              "\n",
              "  .colab-df-quickchart:hover {\n",
              "    background-color: var(--hover-bg-color);\n",
              "    box-shadow: 0 1px 2px rgba(60, 64, 67, 0.3), 0 1px 3px 1px rgba(60, 64, 67, 0.15);\n",
              "    fill: var(--button-hover-fill-color);\n",
              "  }\n",
              "\n",
              "  .colab-df-quickchart-complete:disabled,\n",
              "  .colab-df-quickchart-complete:disabled:hover {\n",
              "    background-color: var(--disabled-bg-color);\n",
              "    fill: var(--disabled-fill-color);\n",
              "    box-shadow: none;\n",
              "  }\n",
              "\n",
              "  .colab-df-spinner {\n",
              "    border: 2px solid var(--fill-color);\n",
              "    border-color: transparent;\n",
              "    border-bottom-color: var(--fill-color);\n",
              "    animation:\n",
              "      spin 1s steps(1) infinite;\n",
              "  }\n",
              "\n",
              "  @keyframes spin {\n",
              "    0% {\n",
              "      border-color: transparent;\n",
              "      border-bottom-color: var(--fill-color);\n",
              "      border-left-color: var(--fill-color);\n",
              "    }\n",
              "    20% {\n",
              "      border-color: transparent;\n",
              "      border-left-color: var(--fill-color);\n",
              "      border-top-color: var(--fill-color);\n",
              "    }\n",
              "    30% {\n",
              "      border-color: transparent;\n",
              "      border-left-color: var(--fill-color);\n",
              "      border-top-color: var(--fill-color);\n",
              "      border-right-color: var(--fill-color);\n",
              "    }\n",
              "    40% {\n",
              "      border-color: transparent;\n",
              "      border-right-color: var(--fill-color);\n",
              "      border-top-color: var(--fill-color);\n",
              "    }\n",
              "    60% {\n",
              "      border-color: transparent;\n",
              "      border-right-color: var(--fill-color);\n",
              "    }\n",
              "    80% {\n",
              "      border-color: transparent;\n",
              "      border-right-color: var(--fill-color);\n",
              "      border-bottom-color: var(--fill-color);\n",
              "    }\n",
              "    90% {\n",
              "      border-color: transparent;\n",
              "      border-bottom-color: var(--fill-color);\n",
              "    }\n",
              "  }\n",
              "</style>\n",
              "\n",
              "  <script>\n",
              "    async function quickchart(key) {\n",
              "      const quickchartButtonEl =\n",
              "        document.querySelector('#' + key + ' button');\n",
              "      quickchartButtonEl.disabled = true;  // To prevent multiple clicks.\n",
              "      quickchartButtonEl.classList.add('colab-df-spinner');\n",
              "      try {\n",
              "        const charts = await google.colab.kernel.invokeFunction(\n",
              "            'suggestCharts', [key], {});\n",
              "      } catch (error) {\n",
              "        console.error('Error during call to suggestCharts:', error);\n",
              "      }\n",
              "      quickchartButtonEl.classList.remove('colab-df-spinner');\n",
              "      quickchartButtonEl.classList.add('colab-df-quickchart-complete');\n",
              "    }\n",
              "    (() => {\n",
              "      let quickchartButtonEl =\n",
              "        document.querySelector('#df-a2265bf9-8fea-40ac-ae01-58e99db3b253 button');\n",
              "      quickchartButtonEl.style.display =\n",
              "        google.colab.kernel.accessAllowed ? 'block' : 'none';\n",
              "    })();\n",
              "  </script>\n",
              "</div>\n",
              "\n",
              "    </div>\n",
              "  </div>\n"
            ],
            "application/vnd.google.colaboratory.intrinsic+json": {
              "type": "dataframe",
              "variable_name": "df"
            }
          },
          "metadata": {},
          "execution_count": 3
        }
      ]
    },
    {
      "cell_type": "code",
      "source": [
        "# Eliminar las columnas irrelevantes\n",
        "columns_to_keep = ['RedFighter', 'BlueFighter', 'Date', 'Location', 'Country', 'Winner', 'TitleBout', 'Finish', 'FinishDetails', 'FinishRound', 'TotalFightTimeSecs']\n",
        "df = df[columns_to_keep]\n"
      ],
      "metadata": {
        "id": "mVcnZj-M2ccs"
      },
      "execution_count": 4,
      "outputs": []
    },
    {
      "cell_type": "code",
      "source": [
        "# Eliminar filas con valores nulos\n",
        "df.dropna(inplace=True)\n"
      ],
      "metadata": {
        "id": "uoXqN1He2oUW"
      },
      "execution_count": 5,
      "outputs": []
    },
    {
      "cell_type": "code",
      "source": [
        "# Verificar los tipos de datos\n",
        "print(df.dtypes)\n",
        "\n",
        "# Convertir la columna 'Date' a tipo datetime\n",
        "df['Date'] = pd.to_datetime(df['Date'])\n"
      ],
      "metadata": {
        "colab": {
          "base_uri": "https://localhost:8080/"
        },
        "id": "sa6U8F0N2tVM",
        "outputId": "1d647157-6f7e-4f88-8268-53bec7942a08"
      },
      "execution_count": 6,
      "outputs": [
        {
          "output_type": "stream",
          "name": "stdout",
          "text": [
            "RedFighter             object\n",
            "BlueFighter            object\n",
            "Date                   object\n",
            "Location               object\n",
            "Country                object\n",
            "Winner                 object\n",
            "TitleBout                bool\n",
            "Finish                 object\n",
            "FinishDetails          object\n",
            "FinishRound           float64\n",
            "TotalFightTimeSecs    float64\n",
            "dtype: object\n"
          ]
        }
      ]
    },
    {
      "cell_type": "code",
      "source": [
        "# Verificar si hay valores nulos\n",
        "print(df.isnull().sum())\n",
        "\n",
        "# Eliminar filas con valores nulos\n",
        "df.dropna(inplace=True)\n"
      ],
      "metadata": {
        "colab": {
          "base_uri": "https://localhost:8080/"
        },
        "id": "xt7KG2Wi3C7E",
        "outputId": "7235a8e0-de3c-41f8-b13a-8a4cf04aa028"
      },
      "execution_count": 7,
      "outputs": [
        {
          "output_type": "stream",
          "name": "stdout",
          "text": [
            "RedFighter            0\n",
            "BlueFighter           0\n",
            "Date                  0\n",
            "Location              0\n",
            "Country               0\n",
            "Winner                0\n",
            "TitleBout             0\n",
            "Finish                0\n",
            "FinishDetails         0\n",
            "FinishRound           0\n",
            "TotalFightTimeSecs    0\n",
            "dtype: int64\n"
          ]
        }
      ]
    },
    {
      "cell_type": "code",
      "source": [
        "# Convertir 'FinishRound' a tipo int (si no tiene decimales)\n",
        "df['FinishRound'] = df['FinishRound'].fillna(0).astype(int)\n",
        "\n",
        "# Convertir 'TotalFightTimeSecs' a tipo int\n",
        "df['TotalFightTimeSecs'] = df['TotalFightTimeSecs'].astype(int)\n"
      ],
      "metadata": {
        "id": "eMxpZJK-3JCa"
      },
      "execution_count": 8,
      "outputs": []
    },
    {
      "cell_type": "code",
      "source": [
        "# Eliminar filas duplicadas\n",
        "df.drop_duplicates(inplace=True)\n"
      ],
      "metadata": {
        "id": "KwhogZGh3NkS"
      },
      "execution_count": 9,
      "outputs": []
    },
    {
      "cell_type": "code",
      "source": [
        "# Verificar las columnas y los tipos de datos\n",
        "print(df.dtypes)\n"
      ],
      "metadata": {
        "colab": {
          "base_uri": "https://localhost:8080/"
        },
        "id": "FrkdarBH4ETX",
        "outputId": "2302539a-6093-4dde-dfaa-6b938e3e770b"
      },
      "execution_count": 10,
      "outputs": [
        {
          "output_type": "stream",
          "name": "stdout",
          "text": [
            "RedFighter                    object\n",
            "BlueFighter                   object\n",
            "Date                  datetime64[ns]\n",
            "Location                      object\n",
            "Country                       object\n",
            "Winner                        object\n",
            "TitleBout                       bool\n",
            "Finish                        object\n",
            "FinishDetails                 object\n",
            "FinishRound                    int64\n",
            "TotalFightTimeSecs             int64\n",
            "dtype: object\n"
          ]
        }
      ]
    },
    {
      "cell_type": "code",
      "source": [
        "# Verificar si hay valores nulos\n",
        "print(df.isnull().sum())\n"
      ],
      "metadata": {
        "colab": {
          "base_uri": "https://localhost:8080/"
        },
        "id": "oV1zDdKt4QZu",
        "outputId": "0904812d-c8e1-44eb-afd0-299d90fb0096"
      },
      "execution_count": 11,
      "outputs": [
        {
          "output_type": "stream",
          "name": "stdout",
          "text": [
            "RedFighter            0\n",
            "BlueFighter           0\n",
            "Date                  0\n",
            "Location              0\n",
            "Country               0\n",
            "Winner                0\n",
            "TitleBout             0\n",
            "Finish                0\n",
            "FinishDetails         0\n",
            "FinishRound           0\n",
            "TotalFightTimeSecs    0\n",
            "dtype: int64\n"
          ]
        }
      ]
    },
    {
      "cell_type": "code",
      "source": [
        "# Estadísticas descriptivas para las variables numéricas\n",
        "print(df.describe())\n"
      ],
      "metadata": {
        "colab": {
          "base_uri": "https://localhost:8080/"
        },
        "id": "uRMgCVbA9XtN",
        "outputId": "ba70d43a-f900-4785-bd11-37050fd9cf26"
      },
      "execution_count": 12,
      "outputs": [
        {
          "output_type": "stream",
          "name": "stdout",
          "text": [
            "                                Date  FinishRound  TotalFightTimeSecs\n",
            "count                           2863  2863.000000         2863.000000\n",
            "mean   2017-12-28 04:55:44.743276288     1.706951          373.045407\n",
            "min              2010-03-21 00:00:00     1.000000            5.000000\n",
            "25%              2014-08-26 12:00:00     1.000000          155.000000\n",
            "50%              2017-12-01 00:00:00     1.000000          299.000000\n",
            "75%              2021-12-18 00:00:00     2.000000          548.000000\n",
            "max              2024-11-09 00:00:00     5.000000         1499.000000\n",
            "std                              NaN     0.844088          268.433246\n"
          ]
        }
      ]
    },
    {
      "cell_type": "code",
      "source": [
        "# Filtra solo las columnas numéricas\n",
        "numeric_columns = df.select_dtypes(include=['number'])\n",
        "correlation = numeric_columns.corr()\n",
        "print(correlation)\n"
      ],
      "metadata": {
        "colab": {
          "base_uri": "https://localhost:8080/"
        },
        "id": "HhIEk4ce96c8",
        "outputId": "0bedddd1-570b-4fe7-868c-166c3bbd29c2"
      },
      "execution_count": 14,
      "outputs": [
        {
          "output_type": "stream",
          "name": "stdout",
          "text": [
            "                    FinishRound  TotalFightTimeSecs\n",
            "FinishRound            1.000000            0.951902\n",
            "TotalFightTimeSecs     0.951902            1.000000\n"
          ]
        }
      ]
    },
    {
      "cell_type": "code",
      "source": [
        "import matplotlib.pyplot as plt\n",
        "import seaborn as sns\n",
        "\n",
        "# 1. Gráfico de barras para la columna 'Finish'\n",
        "plt.figure(figsize=(10, 6))\n",
        "sns.countplot(data=df, x='Finish')\n",
        "plt.title('Distribución de Finish')\n",
        "plt.show()\n",
        "\n",
        "# 2. Histograma de 'FinishRound'\n",
        "plt.figure(figsize=(10, 6))\n",
        "sns.histplot(df['FinishRound'], kde=True)\n",
        "plt.title('Distribución de FinishRound')\n",
        "plt.show()\n",
        "\n",
        "# 3. Boxplot para detectar valores atípicos en 'FinishRound'\n",
        "plt.figure(figsize=(10, 6))\n",
        "sns.boxplot(data=df, x='FinishRound')\n",
        "plt.title('Boxplot de FinishRound')\n",
        "plt.show()\n",
        "\n",
        "# 4. Scatter plot entre 'FinishRound' y 'TotalFightTimeSecs'\n",
        "plt.figure(figsize=(10, 6))\n",
        "sns.scatterplot(data=df, x='FinishRound', y='TotalFightTimeSecs')\n",
        "plt.title('Relación entre FinishRound y TotalFightTimeSecs')\n",
        "plt.show()\n",
        "\n",
        "# 5. Pie chart para la columna 'Winner'\n",
        "plt.figure(figsize=(10, 6))\n",
        "df['Winner'].value_counts().plot.pie(autopct='%1.1f%%', figsize=(7, 7))\n",
        "plt.title('Distribución de Winners')\n",
        "plt.show()\n"
      ],
      "metadata": {
        "colab": {
          "base_uri": "https://localhost:8080/",
          "height": 1000
        },
        "id": "DAZwJpXA-zK8",
        "outputId": "87f54f3d-da72-4a85-d8ce-97ee095fbb3d"
      },
      "execution_count": 15,
      "outputs": [
        {
          "output_type": "display_data",
          "data": {
            "text/plain": [
              "<Figure size 1000x600 with 1 Axes>"
            ],
            "image/png": "[encoded data removed]"
          },
          "metadata": {}
        },
        {
          "output_type": "display_data",
          "data": {
            "text/plain": [
              "<Figure size 1000x600 with 1 Axes>"
            ],
            "image/png": "[encoded data removed]"
          },
          "metadata": {}
        },
        {
          "output_type": "display_data",
          "data": {
            "text/plain": [
              "<Figure size 1000x600 with 1 Axes>"
            ],
            "image/png": "[encoded data removed]"
          },
          "metadata": {}
        },
        {
          "output_type": "display_data",
          "data": {
            "text/plain": [
              "<Figure size 1000x600 with 1 Axes>"
            ],
            "image/png": "[encoded data removed]"
          },
          "metadata": {}
        },
        {
          "output_type": "display_data",
          "data": {
            "text/plain": [
              "<Figure size 700x700 with 1 Axes>"
            ],
            "image/png": "[encoded data removed]"
          },
          "metadata": {}
        }
      ]
    },
    {
      "cell_type": "code",
      "source": [
        "import scipy.stats as stats\n",
        "import numpy as np\n"
      ],
      "metadata": {
        "id": "LVBl6L5oCm71"
      },
      "execution_count": 16,
      "outputs": []
    },
    {
      "cell_type": "code",
      "source": [
        "# Prueba de normalidad para 'TotalFightTimeSecs' dentro de cada grupo en 'Finish'\n",
        "for category in df['Finish'].unique():\n",
        "    group_data = df[df['Finish'] == category]['TotalFightTimeSecs']\n",
        "    stat, p_value = stats.shapiro(group_data)\n",
        "    print(f\"Normalidad en {category}: p-valor = {p_value}\")\n"
      ],
      "metadata": {
        "colab": {
          "base_uri": "https://localhost:8080/",
          "height": 373
        },
        "id": "J6f_k-t5Cs8p",
        "outputId": "c349ec81-17fd-4928-a235-eeac69bfe08d"
      },
      "execution_count": 17,
      "outputs": [
        {
          "output_type": "stream",
          "name": "stdout",
          "text": [
            "Normalidad en KO/TKO: p-valor = 1.617046134202373e-29\n",
            "Normalidad en SUB: p-valor = 6.514249723781488e-22\n"
          ]
        },
        {
          "output_type": "error",
          "ename": "ValueError",
          "evalue": "Data must be at least length 3.",
          "traceback": [
            "\u001b[0;31m---------------------------------------------------------------------------\u001b[0m",
            "\u001b[0;31mValueError\u001b[0m                                Traceback (most recent call last)",
            "\u001b[0;32m<ipython-input-17-3f36457174d2>\u001b[0m in \u001b[0;36m<cell line: 2>\u001b[0;34m()\u001b[0m\n\u001b[1;32m      2\u001b[0m \u001b[0;32mfor\u001b[0m \u001b[0mcategory\u001b[0m \u001b[0;32min\u001b[0m \u001b[0mdf\u001b[0m\u001b[0;34m[\u001b[0m\u001b[0;34m'Finish'\u001b[0m\u001b[0;34m]\u001b[0m\u001b[0;34m.\u001b[0m\u001b[0munique\u001b[0m\u001b[0;34m(\u001b[0m\u001b[0;34m)\u001b[0m\u001b[0;34m:\u001b[0m\u001b[0;34m\u001b[0m\u001b[0;34m\u001b[0m\u001b[0m\n\u001b[1;32m      3\u001b[0m     \u001b[0mgroup_data\u001b[0m \u001b[0;34m=\u001b[0m \u001b[0mdf\u001b[0m\u001b[0;34m[\u001b[0m\u001b[0mdf\u001b[0m\u001b[0;34m[\u001b[0m\u001b[0;34m'Finish'\u001b[0m\u001b[0;34m]\u001b[0m \u001b[0;34m==\u001b[0m \u001b[0mcategory\u001b[0m\u001b[0;34m]\u001b[0m\u001b[0;34m[\u001b[0m\u001b[0;34m'TotalFightTimeSecs'\u001b[0m\u001b[0;34m]\u001b[0m\u001b[0;34m\u001b[0m\u001b[0;34m\u001b[0m\u001b[0m\n\u001b[0;32m----> 4\u001b[0;31m     \u001b[0mstat\u001b[0m\u001b[0;34m,\u001b[0m \u001b[0mp_value\u001b[0m \u001b[0;34m=\u001b[0m \u001b[0mstats\u001b[0m\u001b[0;34m.\u001b[0m\u001b[0mshapiro\u001b[0m\u001b[0;34m(\u001b[0m\u001b[0mgroup_data\u001b[0m\u001b[0;34m)\u001b[0m\u001b[0;34m\u001b[0m\u001b[0;34m\u001b[0m\u001b[0m\n\u001b[0m\u001b[1;32m      5\u001b[0m     \u001b[0mprint\u001b[0m\u001b[0;34m(\u001b[0m\u001b[0;34mf\"Normalidad en {category}: p-valor = {p_value}\"\u001b[0m\u001b[0;34m)\u001b[0m\u001b[0;34m\u001b[0m\u001b[0;34m\u001b[0m\u001b[0m\n",
            "\u001b[0;32m/usr/local/lib/python3.10/dist-packages/scipy/stats/_axis_nan_policy.py\u001b[0m in \u001b[0;36maxis_nan_policy_wrapper\u001b[0;34m(***failed resolving arguments***)\u001b[0m\n\u001b[1;32m    529\u001b[0m                 \u001b[0;32mif\u001b[0m \u001b[0msentinel\u001b[0m\u001b[0;34m:\u001b[0m\u001b[0;34m\u001b[0m\u001b[0;34m\u001b[0m\u001b[0m\n\u001b[1;32m    530\u001b[0m                     \u001b[0msamples\u001b[0m \u001b[0;34m=\u001b[0m \u001b[0m_remove_sentinel\u001b[0m\u001b[0;34m(\u001b[0m\u001b[0msamples\u001b[0m\u001b[0;34m,\u001b[0m \u001b[0mpaired\u001b[0m\u001b[0;34m,\u001b[0m \u001b[0msentinel\u001b[0m\u001b[0;34m)\u001b[0m\u001b[0;34m\u001b[0m\u001b[0;34m\u001b[0m\u001b[0m\n\u001b[0;32m--> 531\u001b[0;31m                 \u001b[0mres\u001b[0m \u001b[0;34m=\u001b[0m \u001b[0mhypotest_fun_out\u001b[0m\u001b[0;34m(\u001b[0m\u001b[0;34m*\u001b[0m\u001b[0msamples\u001b[0m\u001b[0;34m,\u001b[0m \u001b[0;34m**\u001b[0m\u001b[0mkwds\u001b[0m\u001b[0;34m)\u001b[0m\u001b[0;34m\u001b[0m\u001b[0;34m\u001b[0m\u001b[0m\n\u001b[0m\u001b[1;32m    532\u001b[0m                 \u001b[0mres\u001b[0m \u001b[0;34m=\u001b[0m \u001b[0mresult_to_tuple\u001b[0m\u001b[0;34m(\u001b[0m\u001b[0mres\u001b[0m\u001b[0;34m)\u001b[0m\u001b[0;34m\u001b[0m\u001b[0;34m\u001b[0m\u001b[0m\n\u001b[1;32m    533\u001b[0m                 \u001b[0mres\u001b[0m \u001b[0;34m=\u001b[0m \u001b[0m_add_reduced_axes\u001b[0m\u001b[0;34m(\u001b[0m\u001b[0mres\u001b[0m\u001b[0;34m,\u001b[0m \u001b[0mreduced_axes\u001b[0m\u001b[0;34m,\u001b[0m \u001b[0mkeepdims\u001b[0m\u001b[0;34m)\u001b[0m\u001b[0;34m\u001b[0m\u001b[0;34m\u001b[0m\u001b[0m\n",
            "\u001b[0;32m/usr/local/lib/python3.10/dist-packages/scipy/stats/_morestats.py\u001b[0m in \u001b[0;36mshapiro\u001b[0;34m(x)\u001b[0m\n\u001b[1;32m   1992\u001b[0m     \u001b[0mN\u001b[0m \u001b[0;34m=\u001b[0m \u001b[0mlen\u001b[0m\u001b[0;34m(\u001b[0m\u001b[0mx\u001b[0m\u001b[0;34m)\u001b[0m\u001b[0;34m\u001b[0m\u001b[0;34m\u001b[0m\u001b[0m\n\u001b[1;32m   1993\u001b[0m     \u001b[0;32mif\u001b[0m \u001b[0mN\u001b[0m \u001b[0;34m<\u001b[0m \u001b[0;36m3\u001b[0m\u001b[0;34m:\u001b[0m\u001b[0;34m\u001b[0m\u001b[0;34m\u001b[0m\u001b[0m\n\u001b[0;32m-> 1994\u001b[0;31m         \u001b[0;32mraise\u001b[0m \u001b[0mValueError\u001b[0m\u001b[0;34m(\u001b[0m\u001b[0;34m\"Data must be at least length 3.\"\u001b[0m\u001b[0;34m)\u001b[0m\u001b[0;34m\u001b[0m\u001b[0;34m\u001b[0m\u001b[0m\n\u001b[0m\u001b[1;32m   1995\u001b[0m \u001b[0;34m\u001b[0m\u001b[0m\n\u001b[1;32m   1996\u001b[0m     \u001b[0ma\u001b[0m \u001b[0;34m=\u001b[0m \u001b[0mzeros\u001b[0m\u001b[0;34m(\u001b[0m\u001b[0mN\u001b[0m\u001b[0;34m//\u001b[0m\u001b[0;36m2\u001b[0m\u001b[0;34m,\u001b[0m \u001b[0mdtype\u001b[0m\u001b[0;34m=\u001b[0m\u001b[0mnp\u001b[0m\u001b[0;34m.\u001b[0m\u001b[0mfloat64\u001b[0m\u001b[0;34m)\u001b[0m\u001b[0;34m\u001b[0m\u001b[0;34m\u001b[0m\u001b[0m\n",
            "\u001b[0;31mValueError\u001b[0m: Data must be at least length 3."
          ]
        }
      ]
    },
    {
      "cell_type": "code",
      "source": [
        "# Verificar el número de registros por cada categoría en 'Finish'\n",
        "print(df['Finish'].value_counts())\n"
      ],
      "metadata": {
        "colab": {
          "base_uri": "https://localhost:8080/"
        },
        "id": "l0JSAbO9C38-",
        "outputId": "7850851c-c854-49b9-e5b3-a4371a97a907"
      },
      "execution_count": 18,
      "outputs": [
        {
          "output_type": "stream",
          "name": "stdout",
          "text": [
            "Finish\n",
            "KO/TKO        1771\n",
            "SUB           1089\n",
            "Overturned       2\n",
            "DQ               1\n",
            "Name: count, dtype: int64\n"
          ]
        }
      ]
    },
    {
      "cell_type": "code",
      "source": [
        "# Filtrar los grupos \"Overturned\" y \"DQ\" que tienen menos de 3 registros\n",
        "df_filtered = df[~df['Finish'].isin(['Overturned', 'DQ'])]\n",
        "\n",
        "# Verificar la distribución después de eliminar los grupos pequeños\n",
        "print(df_filtered['Finish'].value_counts())\n"
      ],
      "metadata": {
        "colab": {
          "base_uri": "https://localhost:8080/"
        },
        "id": "EcrfMev3DGSj",
        "outputId": "6e139319-4de0-416c-d0b0-64a1b33aee12"
      },
      "execution_count": 19,
      "outputs": [
        {
          "output_type": "stream",
          "name": "stdout",
          "text": [
            "Finish\n",
            "KO/TKO    1771\n",
            "SUB       1089\n",
            "Name: count, dtype: int64\n"
          ]
        }
      ]
    },
    {
      "cell_type": "code",
      "source": [
        "from scipy import stats\n",
        "\n",
        "# Realizar la prueba de normalidad Shapiro-Wilk para los grupos restantes\n",
        "for category in df_filtered['Finish'].unique():\n",
        "    group_data = df_filtered[df_filtered['Finish'] == category]['TotalFightTimeSecs']\n",
        "    stat, p_value = stats.shapiro(group_data)\n",
        "    print(f\"Normalidad en {category}: p-valor = {p_value}\")\n"
      ],
      "metadata": {
        "colab": {
          "base_uri": "https://localhost:8080/"
        },
        "id": "PtqrQDY3DK_S",
        "outputId": "d410dc16-d0e1-4873-e204-775fb7ff85f1"
      },
      "execution_count": 20,
      "outputs": [
        {
          "output_type": "stream",
          "name": "stdout",
          "text": [
            "Normalidad en KO/TKO: p-valor = 1.617046134202373e-29\n",
            "Normalidad en SUB: p-valor = 6.514249723781488e-22\n"
          ]
        }
      ]
    },
    {
      "cell_type": "code",
      "source": [
        "from scipy import stats\n",
        "\n",
        "# Datos filtrados para los dos grupos restantes\n",
        "ko_tko_data = df_filtered[df_filtered['Finish'] == 'KO/TKO']['TotalFightTimeSecs']\n",
        "sub_data = df_filtered[df_filtered['Finish'] == 'SUB']['TotalFightTimeSecs']\n",
        "\n",
        "# Realizar la prueba de Kruskal-Wallis\n",
        "h_stat, p_value = stats.kruskal(ko_tko_data, sub_data)\n",
        "\n",
        "# Imprimir el resultado de la prueba\n",
        "print(f\"Resultado de Kruskal-Wallis: Estadístico H = {h_stat}, p-valor = {p_value}\")\n"
      ],
      "metadata": {
        "colab": {
          "base_uri": "https://localhost:8080/"
        },
        "id": "HLG3v7TeDYuw",
        "outputId": "34f19ef6-74d4-448a-b743-027e898eb884"
      },
      "execution_count": 21,
      "outputs": [
        {
          "output_type": "stream",
          "name": "stdout",
          "text": [
            "Resultado de Kruskal-Wallis: Estadístico H = 23.82756150147572, p-valor = 1.0536294381489453e-06\n"
          ]
        }
      ]
    },
    {
      "cell_type": "code",
      "source": [
        "# esto lo agregue porque quiero ver el grafico de cuanto tiempo de diferencia genera un KO a una sumision\n",
        "\n",
        "plt.figure(figsize=(10, 6))\n",
        "sns.boxplot(x='Finish', y='TotalFightTimeSecs', data=df_filtered)\n",
        "plt.title('Comparación de tiempos de pelea entre KO/TKO y SUB')\n",
        "plt.show()\n"
      ],
      "metadata": {
        "colab": {
          "base_uri": "https://localhost:8080/",
          "height": 565
        },
        "id": "TUxNg9VmDttD",
        "outputId": "3001df37-83a9-4429-ef6a-663548e7b749"
      },
      "execution_count": 22,
      "outputs": [
        {
          "output_type": "display_data",
          "data": {
            "text/plain": [
              "<Figure size 1000x600 with 1 Axes>"
            ],
            "image/png": "[encoded data removed]"
          },
          "metadata": {}
        }
      ]
    },
    {
      "cell_type": "code",
      "source": [
        "from sklearn.linear_model import LinearRegression\n",
        "from sklearn.model_selection import train_test_split\n",
        "from sklearn.metrics import mean_squared_error, r2_score\n",
        "\n",
        "# Prepara los datos: seleccionamos las columnas relevantes para el modelo\n",
        "df_cleaned = df[['FinishRound', 'TitleBout', 'TotalFightTimeSecs']]\n",
        "df_cleaned.dropna(inplace=True)  # Asegúrate de que no haya valores nulos\n",
        "\n",
        "# Variables predictoras (X) y objetivo (y)\n",
        "X = df_cleaned[['FinishRound', 'TitleBout']]\n",
        "y = df_cleaned['TotalFightTimeSecs']\n",
        "\n",
        "# Divide los datos en entrenamiento y prueba (80% entrenamiento, 20% prueba)\n",
        "X_train, X_test, y_train, y_test = train_test_split(X, y, test_size=0.2, random_state=42)\n",
        "\n",
        "# Crea el modelo de regresión lineal\n",
        "model = LinearRegression()\n",
        "model.fit(X_train, y_train)\n",
        "\n",
        "# Predicciones en el conjunto de prueba\n",
        "y_pred = model.predict(X_test)\n",
        "\n",
        "# Evaluación del modelo\n",
        "mse = mean_squared_error(y_test, y_pred)\n",
        "r2 = r2_score(y_test, y_pred)\n",
        "\n",
        "print(f'Mean Squared Error: {mse}')\n",
        "print(f'R^2 Score: {r2}')\n"
      ],
      "metadata": {
        "colab": {
          "base_uri": "https://localhost:8080/"
        },
        "id": "8FtIUdrgETw-",
        "outputId": "751d9225-5552-4622-acac-f0a4d02f6251"
      },
      "execution_count": 23,
      "outputs": [
        {
          "output_type": "stream",
          "name": "stdout",
          "text": [
            "Mean Squared Error: 6478.963369971013\n",
            "R^2 Score: 0.9035910529237764\n"
          ]
        },
        {
          "output_type": "stream",
          "name": "stderr",
          "text": [
            "<ipython-input-23-e1076c9469e1>:7: SettingWithCopyWarning: \n",
            "A value is trying to be set on a copy of a slice from a DataFrame\n",
            "\n",
            "See the caveats in the documentation: https://pandas.pydata.org/pandas-docs/stable/user_guide/indexing.html#returning-a-view-versus-a-copy\n",
            "  df_cleaned.dropna(inplace=True)  # Asegúrate de que no haya valores nulos\n"
          ]
        }
      ]
    },
    {
      "cell_type": "code",
      "source": [
        "from sklearn.model_selection import train_test_split\n",
        "from sklearn.preprocessing import StandardScaler\n",
        "from sklearn.neighbors import KNeighborsClassifier\n",
        "from sklearn.metrics import accuracy_score, confusion_matrix, classification_report\n",
        "\n",
        "# Paso 1: Preparar los datos\n",
        "# Seleccionamos las características numéricas y la columna objetivo (Winner)\n",
        "X = df[['FinishRound', 'TotalFightTimeSecs']]  # Características (features)\n",
        "y = df['Winner'].dropna()  # Columna objetivo (target), asegurándonos de eliminar los nulos\n",
        "\n",
        "# Paso 2: Escalar los datos\n",
        "scaler = StandardScaler()\n",
        "X_scaled = scaler.fit_transform(X)\n",
        "\n",
        "# Paso 3: Dividir los datos en entrenamiento y prueba\n",
        "X_train, X_test, y_train, y_test = train_test_split(X_scaled, y, test_size=0.3, random_state=42)\n",
        "\n",
        "# Paso 4: Entrenar el modelo KNN\n",
        "knn = KNeighborsClassifier(n_neighbors=5)  # Elegimos k=5\n",
        "knn.fit(X_train, y_train)\n",
        "\n",
        "# Paso 5: Realizar predicciones\n",
        "y_pred = knn.predict(X_test)\n",
        "\n",
        "# Paso 6: Evaluar el modelo\n",
        "accuracy = accuracy_score(y_test, y_pred)\n",
        "conf_matrix = confusion_matrix(y_test, y_pred)\n",
        "class_report = classification_report(y_test, y_pred)\n",
        "\n",
        "# Mostrar los resultados\n",
        "print(f\"Exactitud del modelo (Accuracy): {accuracy}\")\n",
        "print(\"Matriz de confusión:\")\n",
        "print(conf_matrix)\n",
        "print(\"Reporte de clasificación:\")\n",
        "print(class_report)\n"
      ],
      "metadata": {
        "colab": {
          "base_uri": "https://localhost:8080/"
        },
        "id": "sVIuUrRGFwvn",
        "outputId": "a7b3cfe7-2e9c-4975-9b06-22c451d828ba"
      },
      "execution_count": 24,
      "outputs": [
        {
          "output_type": "stream",
          "name": "stdout",
          "text": [
            "Exactitud del modelo (Accuracy): 0.4912689173457509\n",
            "Matriz de confusión:\n",
            "[[115 241]\n",
            " [196 307]]\n",
            "Reporte de clasificación:\n",
            "              precision    recall  f1-score   support\n",
            "\n",
            "        Blue       0.37      0.32      0.34       356\n",
            "         Red       0.56      0.61      0.58       503\n",
            "\n",
            "    accuracy                           0.49       859\n",
            "   macro avg       0.46      0.47      0.46       859\n",
            "weighted avg       0.48      0.49      0.48       859\n",
            "\n"
          ]
        }
      ]
    }
  ]
}